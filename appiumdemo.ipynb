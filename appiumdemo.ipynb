{
 "cells": [
  {
   "cell_type": "code",
   "execution_count": null,
   "id": "55ae16f5",
   "metadata": {},
   "outputs": [],
   "source": [
    "from time import sleep\n",
    "from appium import  webdriver\n",
    "from selenium.webdriver.common.by import By\n",
    "from selenium.webdriver.support import expected_conditions\n",
    "from selenium.webdriver.support.wait import WebDriverWait\n",
    "\n",
    "class TestFind():\n",
    "    def setup(self):\n",
    "        self.desire_cap= {\n",
    "            \"platformName\":\"android\",\n",
    "            \"platformVersion\":\"7.1.2\",\n",
    "            \"deviceName\":\"127.0.0.1:62001\",\n",
    "            \"appPackage\":\"com.android.chrome\",\n",
    "            \"appActivity\":\"org.chromium.chrome.browser.firstrun.FirstRunActivity\"\n",
    "            \"noRest\":True,\n",
    "           \n",
    "        }\n",
    "      \n",
    "\n",
    "        self.driver=webdriver.Remote(\"http://127.0.0.1:4723/wd/hub\",self.desire_cap)\n",
    "        self.driver.implicitly_wait(5)\n",
    "\n",
    "    def teardown(self):\n",
    "        self.driver.quit()\n",
    "\n",
    "    def test_browser(self):\n",
    "     \n",
    "        self.driver.get(\"https://www.cathaybk.com.tw/cathaybk\")  \n",
    "        #WebDriverWait(self.driver,10).until(expected_conditions.visibility_of_element_located((By.CSS_SELECTOR,\"#)))      \n",
    "        elements=self.driver.find_element(By.CSS_SELECTOR, \"#\").click()\n",
    "        count =0\n",
    "        for i,element in enumerate(elements):\n",
    "            element.text\n",
    "            count=count+i\n",
    "        print(count)\n",
    "        sleep(3)\n"
   ]
  },
  {
   "cell_type": "code",
   "execution_count": null,
   "id": "1946aa56",
   "metadata": {},
   "outputs": [],
   "source": []
  },
  {
   "cell_type": "code",
   "execution_count": null,
   "id": "5c70fa46",
   "metadata": {},
   "outputs": [],
   "source": []
  }
 ],
 "metadata": {
  "kernelspec": {
   "display_name": "Python 3 (ipykernel)",
   "language": "python",
   "name": "python3"
  },
  "language_info": {
   "codemirror_mode": {
    "name": "ipython",
    "version": 3
   },
   "file_extension": ".py",
   "mimetype": "text/x-python",
   "name": "python",
   "nbconvert_exporter": "python",
   "pygments_lexer": "ipython3",
   "version": "3.9.13"
  }
 },
 "nbformat": 4,
 "nbformat_minor": 5
}
