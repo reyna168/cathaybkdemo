{
 "cells": [
  {
   "attachments": {},
   "cell_type": "markdown",
   "id": "d6f39a1c",
   "metadata": {},
   "source": [
    "1.國泰補習班中，有五位學生期中考的成績分別為[53, 64, 75, 19, 92]，但是老師在輸入成績的時候看反了，把五位學生的成績改成了[35, 46, 57, 91, 29]，請用一個函數來將學生的成績修正。\n"
   ]
  },
  {
   "cell_type": "code",
   "execution_count": 1,
   "id": "1ba0a69a",
   "metadata": {},
   "outputs": [],
   "source": [
    "def reverseInteger(number):\n",
    "   \n",
    "    g = number%10 #取出个位数\n",
    "    s = (int(number//10)) #取出十位数\n",
    "    return g*10+s\n"
   ]
  },
  {
   "cell_type": "code",
   "execution_count": 3,
   "id": "bebfd45b",
   "metadata": {},
   "outputs": [
    {
     "data": {
      "text/plain": [
       "23"
      ]
     },
     "execution_count": 3,
     "metadata": {},
     "output_type": "execute_result"
    }
   ],
   "source": [
    "reverseInteger(32)"
   ]
  },
  {
   "cell_type": "code",
   "execution_count": 4,
   "id": "e4514598",
   "metadata": {},
   "outputs": [
    {
     "name": "stdout",
     "output_type": "stream",
     "text": [
      "[53, 64, 75, 19, 92]\n"
     ]
    }
   ],
   "source": [
    "import traceback\n",
    "\n",
    "numbers =[35, 46, 57, 91, 29]\n",
    "correctnum =[]\n",
    "for number in numbers:   \n",
    "    correctnum.append(reverseInteger(number))    \n",
    "print(correctnum)\n",
    "        \n"
   ]
  },
  {
   "cell_type": "markdown",
   "id": "e570a7bb",
   "metadata": {},
   "source": [
    "2.國泰銀行要慶祝六十周年，需要買字母貼紙來布置活動空間，文字為\"Hello welcome to Cathay 60th year anniversary\"，請寫一個程式計算每個字母(大小寫視為同個字母)出現次數"
   ]
  },
  {
   "cell_type": "code",
   "execution_count": 5,
   "id": "e1168d69",
   "metadata": {},
   "outputs": [
    {
     "name": "stdout",
     "output_type": "stream",
     "text": [
      "  6\n",
      "0 1\n",
      "6 1\n",
      "A 5\n",
      "C 2\n",
      "E 5\n",
      "H 3\n",
      "I 1\n",
      "L 3\n",
      "M 1\n",
      "N 2\n",
      "O 3\n",
      "R 3\n",
      "S 1\n",
      "T 3\n",
      "V 1\n",
      "W 1\n",
      "Y 3\n"
     ]
    }
   ],
   "source": [
    "\n",
    "#word = input(\"請輸入英文單字\")\n",
    "word =\"Hello welcome to Cathay 60th year anniversary\"\n",
    "word=word.upper()\n",
    "alphaberCount={alphabet:word.count(alphabet) for alphabet in word}\n",
    "alphabernum=alphaberCount.items()\n",
    "sortalphabernum=sorted(alphabernum,key=lambda x:x[0])\n",
    "dict_num={i[0]:i[1] for i in sortalphabernum}\n",
    "#for key, value in alphaberCount.items():\n",
    "#    print( key,value )\n",
    "\n",
    "for key,value in dict_num.items():\n",
    "    print(key,value)\n"
   ]
  },
  {
   "cell_type": "markdown",
   "id": "3c6bf013",
   "metadata": {},
   "source": [
    "3.QA部門今天舉辦團康活動，有n個人圍成一圈，順序排號。從第一個人開始報數（從1到3報數），凡報到3的人退出圈子。"
   ]
  },
  {
   "cell_type": "code",
   "execution_count": 6,
   "id": "3be40bb9",
   "metadata": {},
   "outputs": [
    {
     "name": "stdout",
     "output_type": "stream",
     "text": [
      "輸入數字10\n",
      "4\n"
     ]
    }
   ],
   "source": [
    "n=int(input(\"輸入數字\"))\n",
    "a=list(range(1,n+1))\n",
    "count=0\n",
    "while len(a)>1:\n",
    "    b=a[:]\n",
    "    for i in range(0,len(b)):\n",
    "        count+=1\n",
    "        if count%3==0:\n",
    "            a.remove(b[i])\n",
    "print(a[0])\n"
   ]
  },
  {
   "cell_type": "code",
   "execution_count": null,
   "id": "ada3e764",
   "metadata": {},
   "outputs": [],
   "source": []
  },
  {
   "cell_type": "code",
   "execution_count": null,
   "id": "21cbeaf4",
   "metadata": {},
   "outputs": [],
   "source": []
  },
  {
   "cell_type": "code",
   "execution_count": null,
   "id": "cdeef45a",
   "metadata": {},
   "outputs": [],
   "source": []
  }
 ],
 "metadata": {
  "kernelspec": {
   "display_name": "Python 3 (ipykernel)",
   "language": "python",
   "name": "python3"
  },
  "language_info": {
   "codemirror_mode": {
    "name": "ipython",
    "version": 3
   },
   "file_extension": ".py",
   "mimetype": "text/x-python",
   "name": "python",
   "nbconvert_exporter": "python",
   "pygments_lexer": "ipython3",
   "version": "3.9.13"
  }
 },
 "nbformat": 4,
 "nbformat_minor": 5
}
